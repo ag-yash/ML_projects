{
 "cells": [
  {
   "cell_type": "code",
   "execution_count": 289,
   "id": "e3ed9af5",
   "metadata": {},
   "outputs": [],
   "source": [
    "import pandas as pd\n",
    "import numpy as np\n"
   ]
  },
  {
   "cell_type": "code",
   "execution_count": 290,
   "id": "e86d06ca",
   "metadata": {},
   "outputs": [],
   "source": [
    "import matplotlib.pyplot as plot"
   ]
  },
  {
   "cell_type": "code",
   "execution_count": 291,
   "id": "03df7563",
   "metadata": {},
   "outputs": [],
   "source": [
    "df = pd.read_csv(\"train.csv\")\n"
   ]
  },
  {
   "cell_type": "code",
   "execution_count": 292,
   "id": "af9092df",
   "metadata": {},
   "outputs": [],
   "source": [
    "x_df = df.drop([\"Survived\"], axis = \"columns\")\n",
    "y_df = df[\"Survived\"]"
   ]
  },
  {
   "cell_type": "code",
   "execution_count": 293,
   "id": "df852180",
   "metadata": {},
   "outputs": [],
   "source": [
    "x_df = x_df.drop([\"PassengerId\", \"Name\", \"Ticket\", \"Cabin\"], axis = \"columns\")"
   ]
  },
  {
   "cell_type": "code",
   "execution_count": 294,
   "id": "13317fef",
   "metadata": {},
   "outputs": [
    {
     "name": "stdout",
     "output_type": "stream",
     "text": [
      "   Pclass     Sex   Age  SibSp  Parch     Fare Embarked\n",
      "0       3    male  22.0      1      0   7.2500        S\n",
      "1       1  female  38.0      1      0  71.2833        C\n",
      "2       3  female  26.0      0      0   7.9250        S\n",
      "3       1  female  35.0      1      0  53.1000        S\n",
      "4       3    male  35.0      0      0   8.0500        S\n"
     ]
    }
   ],
   "source": [
    "print(x_df.head(5))"
   ]
  },
  {
   "cell_type": "code",
   "execution_count": 295,
   "id": "76082837",
   "metadata": {},
   "outputs": [],
   "source": [
    "x_df[\"Age\"] = x_df[\"Age\"].fillna(x_df[\"Age\"].median())\n"
   ]
  },
  {
   "cell_type": "code",
   "execution_count": 296,
   "id": "736ca930",
   "metadata": {},
   "outputs": [
    {
     "data": {
      "text/plain": [
       "False"
      ]
     },
     "execution_count": 296,
     "metadata": {},
     "output_type": "execute_result"
    }
   ],
   "source": [
    "x_df[\"Pclass\"].isnull().any()"
   ]
  },
  {
   "cell_type": "code",
   "execution_count": 297,
   "id": "d95126d2",
   "metadata": {},
   "outputs": [],
   "source": [
    "dum = pd.get_dummies(x_df[\"Pclass\"], drop_first = True, prefix = \"Pclass\")"
   ]
  },
  {
   "cell_type": "code",
   "execution_count": 298,
   "id": "5778eb2e",
   "metadata": {},
   "outputs": [
    {
     "name": "stdout",
     "output_type": "stream",
     "text": [
      "   Pclass_2  Pclass_3\n",
      "0         0         1\n",
      "1         0         0\n",
      "2         0         1\n",
      "3         0         0\n",
      "4         0         1\n"
     ]
    }
   ],
   "source": [
    "print(dum.head(5))"
   ]
  },
  {
   "cell_type": "code",
   "execution_count": 299,
   "id": "0843ddff",
   "metadata": {},
   "outputs": [],
   "source": [
    "x_df = pd.concat([x_df,dum], axis = \"columns\")\n",
    "x_df = x_df.drop([\"Pclass\"], axis = \"columns\")"
   ]
  },
  {
   "cell_type": "code",
   "execution_count": 300,
   "id": "0ff7e374",
   "metadata": {},
   "outputs": [
    {
     "name": "stdout",
     "output_type": "stream",
     "text": [
      "      Sex   Age  SibSp  Parch     Fare Embarked  Pclass_2  Pclass_3\n",
      "0    male  22.0      1      0   7.2500        S         0         1\n",
      "1  female  38.0      1      0  71.2833        C         0         0\n",
      "2  female  26.0      0      0   7.9250        S         0         1\n",
      "3  female  35.0      1      0  53.1000        S         0         0\n",
      "4    male  35.0      0      0   8.0500        S         0         1\n"
     ]
    }
   ],
   "source": [
    "print(x_df.head(5))"
   ]
  },
  {
   "cell_type": "code",
   "execution_count": 301,
   "id": "6e4a429b",
   "metadata": {},
   "outputs": [],
   "source": [
    "from sklearn.preprocessing import LabelEncoder\n",
    "le = LabelEncoder()\n",
    "\n",
    "g = pd.DataFrame(le.fit_transform(x_df[\"Sex\"]), columns = [\"Sex\"])\n",
    "x_df = x_df.drop([\"Sex\"], axis = \"columns\")\n",
    "x_df = pd.concat([x_df, g], axis = \"columns\")\n",
    "#Male -> 1 Female -> 0\n",
    "\n",
    "e = pd.DataFrame(le.fit_transform(x_df[\"Embarked\"]), columns = [\"Embarked\"])\n",
    "x_df = x_df.drop([\"Embarked\"], axis = \"columns\")\n",
    "x_df = pd.concat([x_df, e], axis = \"columns\")\n",
    "#0->C 1->Q 2->S "
   ]
  },
  {
   "cell_type": "code",
   "execution_count": 302,
   "id": "9c87b159",
   "metadata": {},
   "outputs": [
    {
     "data": {
      "text/html": [
       "<div>\n",
       "<style scoped>\n",
       "    .dataframe tbody tr th:only-of-type {\n",
       "        vertical-align: middle;\n",
       "    }\n",
       "\n",
       "    .dataframe tbody tr th {\n",
       "        vertical-align: top;\n",
       "    }\n",
       "\n",
       "    .dataframe thead th {\n",
       "        text-align: right;\n",
       "    }\n",
       "</style>\n",
       "<table border=\"1\" class=\"dataframe\">\n",
       "  <thead>\n",
       "    <tr style=\"text-align: right;\">\n",
       "      <th></th>\n",
       "      <th>Age</th>\n",
       "      <th>SibSp</th>\n",
       "      <th>Parch</th>\n",
       "      <th>Fare</th>\n",
       "      <th>Pclass_2</th>\n",
       "      <th>Pclass_3</th>\n",
       "      <th>Sex</th>\n",
       "      <th>Embarked</th>\n",
       "    </tr>\n",
       "  </thead>\n",
       "  <tbody>\n",
       "    <tr>\n",
       "      <th>0</th>\n",
       "      <td>22.0</td>\n",
       "      <td>1</td>\n",
       "      <td>0</td>\n",
       "      <td>7.2500</td>\n",
       "      <td>0</td>\n",
       "      <td>1</td>\n",
       "      <td>1</td>\n",
       "      <td>2</td>\n",
       "    </tr>\n",
       "    <tr>\n",
       "      <th>1</th>\n",
       "      <td>38.0</td>\n",
       "      <td>1</td>\n",
       "      <td>0</td>\n",
       "      <td>71.2833</td>\n",
       "      <td>0</td>\n",
       "      <td>0</td>\n",
       "      <td>0</td>\n",
       "      <td>0</td>\n",
       "    </tr>\n",
       "    <tr>\n",
       "      <th>2</th>\n",
       "      <td>26.0</td>\n",
       "      <td>0</td>\n",
       "      <td>0</td>\n",
       "      <td>7.9250</td>\n",
       "      <td>0</td>\n",
       "      <td>1</td>\n",
       "      <td>0</td>\n",
       "      <td>2</td>\n",
       "    </tr>\n",
       "    <tr>\n",
       "      <th>3</th>\n",
       "      <td>35.0</td>\n",
       "      <td>1</td>\n",
       "      <td>0</td>\n",
       "      <td>53.1000</td>\n",
       "      <td>0</td>\n",
       "      <td>0</td>\n",
       "      <td>0</td>\n",
       "      <td>2</td>\n",
       "    </tr>\n",
       "    <tr>\n",
       "      <th>4</th>\n",
       "      <td>35.0</td>\n",
       "      <td>0</td>\n",
       "      <td>0</td>\n",
       "      <td>8.0500</td>\n",
       "      <td>0</td>\n",
       "      <td>1</td>\n",
       "      <td>1</td>\n",
       "      <td>2</td>\n",
       "    </tr>\n",
       "    <tr>\n",
       "      <th>5</th>\n",
       "      <td>28.0</td>\n",
       "      <td>0</td>\n",
       "      <td>0</td>\n",
       "      <td>8.4583</td>\n",
       "      <td>0</td>\n",
       "      <td>1</td>\n",
       "      <td>1</td>\n",
       "      <td>1</td>\n",
       "    </tr>\n",
       "  </tbody>\n",
       "</table>\n",
       "</div>"
      ],
      "text/plain": [
       "    Age  SibSp  Parch     Fare  Pclass_2  Pclass_3  Sex  Embarked\n",
       "0  22.0      1      0   7.2500         0         1    1         2\n",
       "1  38.0      1      0  71.2833         0         0    0         0\n",
       "2  26.0      0      0   7.9250         0         1    0         2\n",
       "3  35.0      1      0  53.1000         0         0    0         2\n",
       "4  35.0      0      0   8.0500         0         1    1         2\n",
       "5  28.0      0      0   8.4583         0         1    1         1"
      ]
     },
     "execution_count": 302,
     "metadata": {},
     "output_type": "execute_result"
    }
   ],
   "source": [
    "x_df.head(6)"
   ]
  },
  {
   "cell_type": "code",
   "execution_count": 303,
   "id": "05dfc96c",
   "metadata": {},
   "outputs": [
    {
     "name": "stdout",
     "output_type": "stream",
     "text": [
      "    Age  SibSp  Parch     Fare  Pclass_2  Pclass_3  Sex  Embarked_Q  \\\n",
      "0  22.0      1      0   7.2500         0         1    1           0   \n",
      "1  38.0      1      0  71.2833         0         0    0           0   \n",
      "2  26.0      0      0   7.9250         0         1    0           0   \n",
      "3  35.0      1      0  53.1000         0         0    0           0   \n",
      "4  35.0      0      0   8.0500         0         1    1           0   \n",
      "\n",
      "   Embarked_S  \n",
      "0           1  \n",
      "1           0  \n",
      "2           1  \n",
      "3           1  \n",
      "4           1  \n"
     ]
    }
   ],
   "source": [
    "dum2 = pd.get_dummies(df[\"Embarked\"], drop_first = True, prefix = \"Embarked\")\n",
    "x_df = pd.concat([x_df, dum2], axis = \"columns\")\n",
    "x_df = x_df.drop(\"Embarked\", axis = \"columns\")\n",
    "\n",
    "print(x_df.head(5))\n"
   ]
  },
  {
   "cell_type": "code",
   "execution_count": null,
   "id": "92bc6e09",
   "metadata": {},
   "outputs": [],
   "source": []
  },
  {
   "cell_type": "code",
   "execution_count": null,
   "id": "5cfb332e",
   "metadata": {},
   "outputs": [],
   "source": []
  }
 ],
 "metadata": {
  "kernelspec": {
   "display_name": "Python 3 (ipykernel)",
   "language": "python",
   "name": "python3"
  },
  "language_info": {
   "codemirror_mode": {
    "name": "ipython",
    "version": 3
   },
   "file_extension": ".py",
   "mimetype": "text/x-python",
   "name": "python",
   "nbconvert_exporter": "python",
   "pygments_lexer": "ipython3",
   "version": "3.9.12"
  }
 },
 "nbformat": 4,
 "nbformat_minor": 5
}
