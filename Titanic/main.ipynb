{
 "cells": [
  {
   "cell_type": "code",
   "execution_count": 601,
   "id": "edef9fa5",
   "metadata": {},
   "outputs": [],
   "source": [
    "import pandas as pd\n",
    "import numpy as np\n"
   ]
  },
  {
   "cell_type": "code",
   "execution_count": 602,
   "id": "f9de8f81",
   "metadata": {},
   "outputs": [],
   "source": [
    "import matplotlib.pyplot as plot"
   ]
  },
  {
   "cell_type": "code",
   "execution_count": 603,
   "id": "99f0ae28",
   "metadata": {},
   "outputs": [],
   "source": [
    "df = pd.read_csv(\"train.csv\")\n"
   ]
  },
  {
   "cell_type": "code",
   "execution_count": 604,
   "id": "33e0174e",
   "metadata": {},
   "outputs": [],
   "source": [
    "x_df = df.drop([\"Survived\"], axis = \"columns\")\n",
    "y_df = df[\"Survived\"]"
   ]
  },
  {
   "cell_type": "code",
   "execution_count": 605,
   "id": "aad4cc27",
   "metadata": {},
   "outputs": [],
   "source": [
    "x_df = x_df.drop([\"PassengerId\", \"Name\", \"Ticket\", \"Cabin\"], axis = \"columns\")"
   ]
  },
  {
   "cell_type": "code",
   "execution_count": 606,
   "id": "6b89b492",
   "metadata": {},
   "outputs": [
    {
     "name": "stdout",
     "output_type": "stream",
     "text": [
      "   Pclass     Sex   Age  SibSp  Parch     Fare Embarked\n",
      "0       3    male  22.0      1      0   7.2500        S\n",
      "1       1  female  38.0      1      0  71.2833        C\n",
      "2       3  female  26.0      0      0   7.9250        S\n",
      "3       1  female  35.0      1      0  53.1000        S\n",
      "4       3    male  35.0      0      0   8.0500        S\n"
     ]
    }
   ],
   "source": [
    "print(x_df.head(5))"
   ]
  },
  {
   "cell_type": "code",
   "execution_count": null,
   "id": "0cbc93e2",
   "metadata": {},
   "outputs": [],
   "source": [
    "x_df[\"Age\"] = x_df[\"Age\"].fillna(x_df[\"Age\"].median())\n",
    "print(x_df.head(5))"
   ]
  },
  {
   "cell_type": "code",
   "execution_count": 608,
   "id": "6489c49b",
   "metadata": {},
   "outputs": [
    {
     "data": {
      "text/plain": [
       "False"
      ]
     },
     "execution_count": 608,
     "metadata": {},
     "output_type": "execute_result"
    }
   ],
   "source": [
    "x_df[\"Pclass\"].isnull().any()"
   ]
  },
  {
   "cell_type": "code",
   "execution_count": 609,
   "id": "610da268",
   "metadata": {},
   "outputs": [],
   "source": [
    "dum = pd.get_dummies(x_df[\"Pclass\"], drop_first = True, prefix = \"Pclass\")"
   ]
  },
  {
   "cell_type": "code",
   "execution_count": 610,
   "id": "e4091349",
   "metadata": {},
   "outputs": [
    {
     "name": "stdout",
     "output_type": "stream",
     "text": [
      "   Pclass_2  Pclass_3\n",
      "0         0         1\n",
      "1         0         0\n",
      "2         0         1\n",
      "3         0         0\n",
      "4         0         1\n"
     ]
    }
   ],
   "source": [
    "print(dum.head(5))"
   ]
  },
  {
   "cell_type": "code",
   "execution_count": 611,
   "id": "13259f64",
   "metadata": {},
   "outputs": [],
   "source": [
    "x_df = pd.concat([x_df,dum], axis = \"columns\")\n",
    "x_df = x_df.drop([\"Pclass\"], axis = \"columns\")"
   ]
  },
  {
   "cell_type": "code",
   "execution_count": 612,
   "id": "77bd2f33",
   "metadata": {},
   "outputs": [
    {
     "name": "stdout",
     "output_type": "stream",
     "text": [
      "      Sex   Age  SibSp  Parch     Fare Embarked  Pclass_2  Pclass_3\n",
      "0    male  22.0      1      0   7.2500        S         0         1\n",
      "1  female  38.0      1      0  71.2833        C         0         0\n",
      "2  female  26.0      0      0   7.9250        S         0         1\n",
      "3  female  35.0      1      0  53.1000        S         0         0\n",
      "4    male  35.0      0      0   8.0500        S         0         1\n"
     ]
    }
   ],
   "source": [
    "print(x_df.head(5))"
   ]
  },
  {
   "cell_type": "code",
   "execution_count": 613,
   "id": "2cb7ddbb",
   "metadata": {},
   "outputs": [],
   "source": [
    "from sklearn.preprocessing import LabelEncoder\n",
    "le = LabelEncoder()\n",
    "\n",
    "g = pd.DataFrame(le.fit_transform(x_df[\"Sex\"]), columns = [\"Sex\"])\n",
    "x_df = x_df.drop([\"Sex\"], axis = \"columns\")\n",
    "x_df = pd.concat([x_df, g], axis = \"columns\")\n",
    "#Male -> 1 Female -> 0\n",
    "\n",
    "e = pd.DataFrame(le.fit_transform(x_df[\"Embarked\"]), columns = [\"Embarked\"])\n",
    "x_df = x_df.drop([\"Embarked\"], axis = \"columns\")\n",
    "x_df = pd.concat([x_df, e], axis = \"columns\")\n",
    "#0->C 1->Q 2->S "
   ]
  },
  {
   "cell_type": "code",
   "execution_count": 614,
   "id": "03238a9a",
   "metadata": {},
   "outputs": [
    {
     "data": {
      "text/html": [
       "<div>\n",
       "<style scoped>\n",
       "    .dataframe tbody tr th:only-of-type {\n",
       "        vertical-align: middle;\n",
       "    }\n",
       "\n",
       "    .dataframe tbody tr th {\n",
       "        vertical-align: top;\n",
       "    }\n",
       "\n",
       "    .dataframe thead th {\n",
       "        text-align: right;\n",
       "    }\n",
       "</style>\n",
       "<table border=\"1\" class=\"dataframe\">\n",
       "  <thead>\n",
       "    <tr style=\"text-align: right;\">\n",
       "      <th></th>\n",
       "      <th>Age</th>\n",
       "      <th>SibSp</th>\n",
       "      <th>Parch</th>\n",
       "      <th>Fare</th>\n",
       "      <th>Pclass_2</th>\n",
       "      <th>Pclass_3</th>\n",
       "      <th>Sex</th>\n",
       "      <th>Embarked</th>\n",
       "    </tr>\n",
       "  </thead>\n",
       "  <tbody>\n",
       "    <tr>\n",
       "      <th>0</th>\n",
       "      <td>22.0</td>\n",
       "      <td>1</td>\n",
       "      <td>0</td>\n",
       "      <td>7.2500</td>\n",
       "      <td>0</td>\n",
       "      <td>1</td>\n",
       "      <td>1</td>\n",
       "      <td>2</td>\n",
       "    </tr>\n",
       "    <tr>\n",
       "      <th>1</th>\n",
       "      <td>38.0</td>\n",
       "      <td>1</td>\n",
       "      <td>0</td>\n",
       "      <td>71.2833</td>\n",
       "      <td>0</td>\n",
       "      <td>0</td>\n",
       "      <td>0</td>\n",
       "      <td>0</td>\n",
       "    </tr>\n",
       "    <tr>\n",
       "      <th>2</th>\n",
       "      <td>26.0</td>\n",
       "      <td>0</td>\n",
       "      <td>0</td>\n",
       "      <td>7.9250</td>\n",
       "      <td>0</td>\n",
       "      <td>1</td>\n",
       "      <td>0</td>\n",
       "      <td>2</td>\n",
       "    </tr>\n",
       "    <tr>\n",
       "      <th>3</th>\n",
       "      <td>35.0</td>\n",
       "      <td>1</td>\n",
       "      <td>0</td>\n",
       "      <td>53.1000</td>\n",
       "      <td>0</td>\n",
       "      <td>0</td>\n",
       "      <td>0</td>\n",
       "      <td>2</td>\n",
       "    </tr>\n",
       "    <tr>\n",
       "      <th>4</th>\n",
       "      <td>35.0</td>\n",
       "      <td>0</td>\n",
       "      <td>0</td>\n",
       "      <td>8.0500</td>\n",
       "      <td>0</td>\n",
       "      <td>1</td>\n",
       "      <td>1</td>\n",
       "      <td>2</td>\n",
       "    </tr>\n",
       "    <tr>\n",
       "      <th>5</th>\n",
       "      <td>28.0</td>\n",
       "      <td>0</td>\n",
       "      <td>0</td>\n",
       "      <td>8.4583</td>\n",
       "      <td>0</td>\n",
       "      <td>1</td>\n",
       "      <td>1</td>\n",
       "      <td>1</td>\n",
       "    </tr>\n",
       "  </tbody>\n",
       "</table>\n",
       "</div>"
      ],
      "text/plain": [
       "    Age  SibSp  Parch     Fare  Pclass_2  Pclass_3  Sex  Embarked\n",
       "0  22.0      1      0   7.2500         0         1    1         2\n",
       "1  38.0      1      0  71.2833         0         0    0         0\n",
       "2  26.0      0      0   7.9250         0         1    0         2\n",
       "3  35.0      1      0  53.1000         0         0    0         2\n",
       "4  35.0      0      0   8.0500         0         1    1         2\n",
       "5  28.0      0      0   8.4583         0         1    1         1"
      ]
     },
     "execution_count": 614,
     "metadata": {},
     "output_type": "execute_result"
    }
   ],
   "source": [
    "x_df.head(6)"
   ]
  },
  {
   "cell_type": "code",
   "execution_count": 615,
   "id": "f7f9af4a",
   "metadata": {},
   "outputs": [
    {
     "name": "stdout",
     "output_type": "stream",
     "text": [
      "    Age  SibSp  Parch     Fare  Pclass_2  Pclass_3  Sex  Embarked_Q  \\\n",
      "0  22.0      1      0   7.2500         0         1    1           0   \n",
      "1  38.0      1      0  71.2833         0         0    0           0   \n",
      "2  26.0      0      0   7.9250         0         1    0           0   \n",
      "3  35.0      1      0  53.1000         0         0    0           0   \n",
      "4  35.0      0      0   8.0500         0         1    1           0   \n",
      "\n",
      "   Embarked_S  \n",
      "0           1  \n",
      "1           0  \n",
      "2           1  \n",
      "3           1  \n",
      "4           1  \n"
     ]
    }
   ],
   "source": [
    "dum = pd.get_dummies(df[\"Embarked\"], drop_first = True, prefix = \"Embarked\")\n",
    "x_df = pd.concat([x_df, dum2], axis = \"columns\")\n",
    "x_df = x_df.drop(\"Embarked\", axis = \"columns\")\n",
    "\n",
    "print(x_df.head(5))\n"
   ]
  },
  {
   "cell_type": "code",
   "execution_count": 616,
   "id": "b829ef36",
   "metadata": {},
   "outputs": [
    {
     "data": {
      "text/html": [
       "<div>\n",
       "<style scoped>\n",
       "    .dataframe tbody tr th:only-of-type {\n",
       "        vertical-align: middle;\n",
       "    }\n",
       "\n",
       "    .dataframe tbody tr th {\n",
       "        vertical-align: top;\n",
       "    }\n",
       "\n",
       "    .dataframe thead th {\n",
       "        text-align: right;\n",
       "    }\n",
       "</style>\n",
       "<table border=\"1\" class=\"dataframe\">\n",
       "  <thead>\n",
       "    <tr style=\"text-align: right;\">\n",
       "      <th></th>\n",
       "      <th>Pclass_2</th>\n",
       "      <th>Pclass_3</th>\n",
       "      <th>Sex</th>\n",
       "      <th>Embarked_Q</th>\n",
       "      <th>Embarked_S</th>\n",
       "      <th>Age_ss</th>\n",
       "      <th>Fare_ss</th>\n",
       "      <th>SibSp_ss</th>\n",
       "      <th>Parch_ss</th>\n",
       "    </tr>\n",
       "  </thead>\n",
       "  <tbody>\n",
       "    <tr>\n",
       "      <th>0</th>\n",
       "      <td>0</td>\n",
       "      <td>1</td>\n",
       "      <td>1</td>\n",
       "      <td>0</td>\n",
       "      <td>1</td>\n",
       "      <td>0.271174</td>\n",
       "      <td>0.014151</td>\n",
       "      <td>0.125</td>\n",
       "      <td>0.0</td>\n",
       "    </tr>\n",
       "    <tr>\n",
       "      <th>1</th>\n",
       "      <td>0</td>\n",
       "      <td>0</td>\n",
       "      <td>0</td>\n",
       "      <td>0</td>\n",
       "      <td>0</td>\n",
       "      <td>0.472229</td>\n",
       "      <td>0.139136</td>\n",
       "      <td>0.125</td>\n",
       "      <td>0.0</td>\n",
       "    </tr>\n",
       "    <tr>\n",
       "      <th>2</th>\n",
       "      <td>0</td>\n",
       "      <td>1</td>\n",
       "      <td>0</td>\n",
       "      <td>0</td>\n",
       "      <td>1</td>\n",
       "      <td>0.321438</td>\n",
       "      <td>0.015469</td>\n",
       "      <td>0.000</td>\n",
       "      <td>0.0</td>\n",
       "    </tr>\n",
       "    <tr>\n",
       "      <th>3</th>\n",
       "      <td>0</td>\n",
       "      <td>0</td>\n",
       "      <td>0</td>\n",
       "      <td>0</td>\n",
       "      <td>1</td>\n",
       "      <td>0.434531</td>\n",
       "      <td>0.103644</td>\n",
       "      <td>0.125</td>\n",
       "      <td>0.0</td>\n",
       "    </tr>\n",
       "    <tr>\n",
       "      <th>4</th>\n",
       "      <td>0</td>\n",
       "      <td>1</td>\n",
       "      <td>1</td>\n",
       "      <td>0</td>\n",
       "      <td>1</td>\n",
       "      <td>0.434531</td>\n",
       "      <td>0.015713</td>\n",
       "      <td>0.000</td>\n",
       "      <td>0.0</td>\n",
       "    </tr>\n",
       "  </tbody>\n",
       "</table>\n",
       "</div>"
      ],
      "text/plain": [
       "   Pclass_2  Pclass_3  Sex  Embarked_Q  Embarked_S    Age_ss   Fare_ss  \\\n",
       "0         0         1    1           0           1  0.271174  0.014151   \n",
       "1         0         0    0           0           0  0.472229  0.139136   \n",
       "2         0         1    0           0           1  0.321438  0.015469   \n",
       "3         0         0    0           0           1  0.434531  0.103644   \n",
       "4         0         1    1           0           1  0.434531  0.015713   \n",
       "\n",
       "   SibSp_ss  Parch_ss  \n",
       "0     0.125       0.0  \n",
       "1     0.125       0.0  \n",
       "2     0.000       0.0  \n",
       "3     0.125       0.0  \n",
       "4     0.000       0.0  "
      ]
     },
     "execution_count": 616,
     "metadata": {},
     "output_type": "execute_result"
    }
   ],
   "source": [
    "from sklearn.preprocessing import MinMaxScaler\n",
    "scaler = MinMaxScaler()\n",
    "age = x_df.Age.values.reshape(-1,1)\n",
    "fare = x_df.Fare.values.reshape(-1,1)\n",
    "sib = x_df.SibSp.values.reshape(-1,1)\n",
    "parch = x_df.Parch.values.reshape(-1,1)\n",
    "\n",
    "ss_age = scaler.fit_transform(age)\n",
    "ss_fare = scaler.fit_transform(fare)\n",
    "ss_sib = scaler.fit_transform(sib)\n",
    "ss_parch = scaler.fit_transform(parch)\n",
    "\n",
    "ss_age = pd.DataFrame(ss_age, columns = [\"Age_ss\"])\n",
    "ss_fare = pd.DataFrame(ss_fare, columns = [\"Fare_ss\"])\n",
    "ss_sib = pd.DataFrame(ss_sib, columns = [\"SibSp_ss\"])\n",
    "ss_parch = pd.DataFrame(ss_parch, columns = [\"Parch_ss\"])\n",
    "\n",
    "x_df = pd.concat([x_df, ss_age], axis = \"columns\")\n",
    "x_df = pd.concat([x_df, ss_fare], axis = \"columns\")\n",
    "x_df = pd.concat([x_df, ss_sib], axis = \"columns\")\n",
    "x_df = pd.concat([x_df, ss_parch], axis = \"columns\")\n",
    "\n",
    "x_df = x_df.drop([\"Age\", \"Fare\", \"SibSp\", \"Parch\"], axis = \"columns\")\n",
    "x_df.head(5)"
   ]
  },
  {
   "cell_type": "code",
   "execution_count": 617,
   "id": "a6a564a1",
   "metadata": {},
   "outputs": [],
   "source": [
    "from sklearn.model_selection import train_test_split\n",
    "x_train, x_test, y_train, y_test = train_test_split(x_df, y_df, test_size = 0.2)"
   ]
  },
  {
   "cell_type": "code",
   "execution_count": 618,
   "id": "468f55e6",
   "metadata": {},
   "outputs": [
    {
     "data": {
      "text/plain": [
       "LogisticRegression()"
      ]
     },
     "execution_count": 618,
     "metadata": {},
     "output_type": "execute_result"
    }
   ],
   "source": [
    "from sklearn.linear_model import LogisticRegression\n",
    "model = LogisticRegression()\n",
    "model.fit(x_train, y_train)\n"
   ]
  },
  {
   "cell_type": "code",
   "execution_count": 619,
   "id": "61bba0cc",
   "metadata": {},
   "outputs": [
    {
     "data": {
      "text/plain": [
       "0.8044692737430168"
      ]
     },
     "execution_count": 619,
     "metadata": {},
     "output_type": "execute_result"
    }
   ],
   "source": [
    "model.score(x_test, y_test)"
   ]
  },
  {
   "cell_type": "code",
   "execution_count": null,
   "id": "ef763da1",
   "metadata": {},
   "outputs": [],
   "source": []
  }
 ],
 "metadata": {
  "kernelspec": {
   "display_name": "Python 3.10.2 64-bit",
   "language": "python",
   "name": "python3"
  },
  "language_info": {
   "codemirror_mode": {
    "name": "ipython",
    "version": 3
   },
   "file_extension": ".py",
   "mimetype": "text/x-python",
   "name": "python",
   "nbconvert_exporter": "python",
   "pygments_lexer": "ipython3",
   "version": "3.10.2"
  },
  "vscode": {
   "interpreter": {
    "hash": "fb4569285eef3a3450cb62085a5b1e0da4bce0af555edc33dcf29baf3acc1368"
   }
  }
 },
 "nbformat": 4,
 "nbformat_minor": 5
}
