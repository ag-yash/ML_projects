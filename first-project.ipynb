{
 "cells": [
  {
   "cell_type": "code",
   "execution_count": 1,
   "id": "c3155adf",
   "metadata": {
    "_cell_guid": "b1076dfc-b9ad-4769-8c92-a6c4dae69d19",
    "_uuid": "8f2839f25d086af736a60e9eeb907d3b93b6e0e5",
    "execution": {
     "iopub.execute_input": "2022-07-23T21:27:09.406189Z",
     "iopub.status.busy": "2022-07-23T21:27:09.405719Z",
     "iopub.status.idle": "2022-07-23T21:27:09.423319Z",
     "shell.execute_reply": "2022-07-23T21:27:09.422041Z"
    },
    "papermill": {
     "duration": 0.028495,
     "end_time": "2022-07-23T21:27:09.426097",
     "exception": false,
     "start_time": "2022-07-23T21:27:09.397602",
     "status": "completed"
    },
    "tags": []
   },
   "outputs": [
    {
     "name": "stdout",
     "output_type": "stream",
     "text": [
      "/kaggle/input/mobile-price-classification/train.csv\n",
      "/kaggle/input/mobile-price-classification/test.csv\n"
     ]
    }
   ],
   "source": [
    "# This Python 3 environment comes with many helpful analytics libraries installed\n",
    "# It is defined by the kaggle/python Docker image: https://github.com/kaggle/docker-python\n",
    "# For example, here's several helpful packages to load\n",
    "\n",
    "import numpy as np # linear algebra\n",
    "import pandas as pd # data processing, CSV file I/O (e.g. pd.read_csv)\n",
    "\n",
    "# Input data files are available in the read-only \"../input/\" directory\n",
    "# For example, running this (by clicking run or pressing Shift+Enter) will list all files under the input directory\n",
    "\n",
    "import os\n",
    "for dirname, _, filenames in os.walk('/kaggle/input'):\n",
    "    for filename in filenames:\n",
    "        print(os.path.join(dirname, filename))\n",
    "\n",
    "# You can write up to 20GB to the current directory (/kaggle/working/) that gets preserved as output when you create a version using \"Save & Run All\" \n",
    "# You can also write temporary files to /kaggle/temp/, but they won't be saved outside of the current session"
   ]
  },
  {
   "cell_type": "code",
   "execution_count": 2,
   "id": "59e8ec7e",
   "metadata": {
    "execution": {
     "iopub.execute_input": "2022-07-23T21:27:09.438536Z",
     "iopub.status.busy": "2022-07-23T21:27:09.437510Z",
     "iopub.status.idle": "2022-07-23T21:27:09.475048Z",
     "shell.execute_reply": "2022-07-23T21:27:09.473898Z"
    },
    "papermill": {
     "duration": 0.047066,
     "end_time": "2022-07-23T21:27:09.478357",
     "exception": false,
     "start_time": "2022-07-23T21:27:09.431291",
     "status": "completed"
    },
    "tags": []
   },
   "outputs": [],
   "source": [
    "train = pd.read_csv(\"/kaggle/input/mobile-price-classification/train.csv\")\n",
    "test = pd.read_csv(\"/kaggle/input/mobile-price-classification/test.csv\")"
   ]
  },
  {
   "cell_type": "code",
   "execution_count": 3,
   "id": "aa74397c",
   "metadata": {
    "execution": {
     "iopub.execute_input": "2022-07-23T21:27:09.490450Z",
     "iopub.status.busy": "2022-07-23T21:27:09.489975Z",
     "iopub.status.idle": "2022-07-23T21:27:09.500932Z",
     "shell.execute_reply": "2022-07-23T21:27:09.499618Z"
    },
    "papermill": {
     "duration": 0.019976,
     "end_time": "2022-07-23T21:27:09.503387",
     "exception": false,
     "start_time": "2022-07-23T21:27:09.483411",
     "status": "completed"
    },
    "tags": []
   },
   "outputs": [],
   "source": [
    "x_train = train.iloc[:,0:20]\n",
    "y_train = train.iloc[:,20:21]\n",
    "x_test = test.iloc[:,0:20]\n",
    "y_test = test.iloc[:,20:21]"
   ]
  },
  {
   "cell_type": "code",
   "execution_count": 4,
   "id": "c856b30c",
   "metadata": {
    "execution": {
     "iopub.execute_input": "2022-07-23T21:27:09.515412Z",
     "iopub.status.busy": "2022-07-23T21:27:09.514980Z",
     "iopub.status.idle": "2022-07-23T21:27:09.529413Z",
     "shell.execute_reply": "2022-07-23T21:27:09.528119Z"
    },
    "papermill": {
     "duration": 0.023874,
     "end_time": "2022-07-23T21:27:09.532294",
     "exception": false,
     "start_time": "2022-07-23T21:27:09.508420",
     "status": "completed"
    },
    "tags": []
   },
   "outputs": [],
   "source": [
    "x_train = x_train[['ram','px_height','battery_power','px_width','mobile_wt','int_memory','sc_w','talk_time','fc','sc_h']]\n",
    "x_test = x_test[['ram','px_height','battery_power','px_width','mobile_wt','int_memory','sc_w','talk_time','fc','sc_h']]"
   ]
  },
  {
   "cell_type": "code",
   "execution_count": 5,
   "id": "e8b843ca",
   "metadata": {
    "execution": {
     "iopub.execute_input": "2022-07-23T21:27:09.544127Z",
     "iopub.status.busy": "2022-07-23T21:27:09.543695Z",
     "iopub.status.idle": "2022-07-23T21:27:10.735405Z",
     "shell.execute_reply": "2022-07-23T21:27:10.734152Z"
    },
    "papermill": {
     "duration": 1.200671,
     "end_time": "2022-07-23T21:27:10.737940",
     "exception": false,
     "start_time": "2022-07-23T21:27:09.537269",
     "status": "completed"
    },
    "tags": []
   },
   "outputs": [],
   "source": [
    "from sklearn.preprocessing import StandardScaler \n",
    "sc = StandardScaler()\n",
    "x_train = sc.fit_transform(x_train)\n",
    "x_test = sc.fit_transform(x_test)\n"
   ]
  },
  {
   "cell_type": "code",
   "execution_count": 6,
   "id": "30a8b9bb",
   "metadata": {
    "execution": {
     "iopub.execute_input": "2022-07-23T21:27:10.749044Z",
     "iopub.status.busy": "2022-07-23T21:27:10.748673Z",
     "iopub.status.idle": "2022-07-23T21:27:10.755322Z",
     "shell.execute_reply": "2022-07-23T21:27:10.754123Z"
    },
    "papermill": {
     "duration": 0.015091,
     "end_time": "2022-07-23T21:27:10.757787",
     "exception": false,
     "start_time": "2022-07-23T21:27:10.742696",
     "status": "completed"
    },
    "tags": []
   },
   "outputs": [
    {
     "name": "stdout",
     "output_type": "stream",
     "text": [
      "[ 0.39170341 -1.40894856 -0.90259726 -1.14678403  1.34924881 -1.38064353\n",
      "  0.2831028   1.46249332 -0.76249466 -0.78498329]\n"
     ]
    }
   ],
   "source": [
    "print(x_train[0])"
   ]
  },
  {
   "cell_type": "code",
   "execution_count": 7,
   "id": "1fbf5785",
   "metadata": {
    "execution": {
     "iopub.execute_input": "2022-07-23T21:27:10.769321Z",
     "iopub.status.busy": "2022-07-23T21:27:10.768559Z",
     "iopub.status.idle": "2022-07-23T21:27:10.776865Z",
     "shell.execute_reply": "2022-07-23T21:27:10.775805Z"
    },
    "papermill": {
     "duration": 0.016816,
     "end_time": "2022-07-23T21:27:10.779293",
     "exception": false,
     "start_time": "2022-07-23T21:27:10.762477",
     "status": "completed"
    },
    "tags": []
   },
   "outputs": [
    {
     "name": "stdout",
     "output_type": "stream",
     "text": [
      "(2000, 1)\n"
     ]
    }
   ],
   "source": [
    "y_train = np.array(y_train)\n",
    "print(y_train.shape)\n",
    "y_train = y_train.reshape(-1,1)\n",
    "from sklearn.preprocessing import OneHotEncoder\n",
    "ohot = OneHotEncoder()\n",
    "y_train = ohot.fit_transform(y_train)\n",
    "y_train = y_train.toarray()\n"
   ]
  },
  {
   "cell_type": "code",
   "execution_count": 8,
   "id": "2eac4b4b",
   "metadata": {
    "execution": {
     "iopub.execute_input": "2022-07-23T21:27:10.791111Z",
     "iopub.status.busy": "2022-07-23T21:27:10.790411Z",
     "iopub.status.idle": "2022-07-23T21:27:10.797963Z",
     "shell.execute_reply": "2022-07-23T21:27:10.796623Z"
    },
    "papermill": {
     "duration": 0.017646,
     "end_time": "2022-07-23T21:27:10.801945",
     "exception": false,
     "start_time": "2022-07-23T21:27:10.784299",
     "status": "completed"
    },
    "tags": []
   },
   "outputs": [
    {
     "name": "stdout",
     "output_type": "stream",
     "text": [
      "(1000, 1)\n"
     ]
    }
   ],
   "source": [
    "y_test = np.array(y_test)\n",
    "print(y_test.shape)\n",
    "y_test = y_test.reshape(-1,1)\n",
    "from sklearn.preprocessing import OneHotEncoder\n",
    "ohot = OneHotEncoder()\n",
    "y_test = ohot.fit_transform(y_test)\n",
    "y_test = y_test.toarray()"
   ]
  },
  {
   "cell_type": "code",
   "execution_count": 9,
   "id": "99446abc",
   "metadata": {
    "execution": {
     "iopub.execute_input": "2022-07-23T21:27:10.814945Z",
     "iopub.status.busy": "2022-07-23T21:27:10.813733Z",
     "iopub.status.idle": "2022-07-23T21:27:17.245416Z",
     "shell.execute_reply": "2022-07-23T21:27:17.244177Z"
    },
    "papermill": {
     "duration": 6.440876,
     "end_time": "2022-07-23T21:27:17.248397",
     "exception": false,
     "start_time": "2022-07-23T21:27:10.807521",
     "status": "completed"
    },
    "tags": []
   },
   "outputs": [],
   "source": [
    "import keras\n",
    "from keras.models import Sequential\n",
    "from keras.layers import Dense\n",
    "import matplotlib.pyplot as plt\n",
    "%matplotlib inline"
   ]
  },
  {
   "cell_type": "code",
   "execution_count": 10,
   "id": "e022d995",
   "metadata": {
    "execution": {
     "iopub.execute_input": "2022-07-23T21:27:17.260638Z",
     "iopub.status.busy": "2022-07-23T21:27:17.259986Z",
     "iopub.status.idle": "2022-07-23T21:27:17.387468Z",
     "shell.execute_reply": "2022-07-23T21:27:17.385929Z"
    },
    "papermill": {
     "duration": 0.136393,
     "end_time": "2022-07-23T21:27:17.390164",
     "exception": false,
     "start_time": "2022-07-23T21:27:17.253771",
     "status": "completed"
    },
    "tags": []
   },
   "outputs": [
    {
     "name": "stdout",
     "output_type": "stream",
     "text": [
      "Model: \"sequential\"\n",
      "_________________________________________________________________\n",
      "Layer (type)                 Output Shape              Param #   \n",
      "=================================================================\n",
      "dense (Dense)                (None, 7)                 77        \n",
      "_________________________________________________________________\n",
      "dense_1 (Dense)              (None, 5)                 40        \n",
      "_________________________________________________________________\n",
      "dense_2 (Dense)              (None, 4)                 24        \n",
      "=================================================================\n",
      "Total params: 141\n",
      "Trainable params: 141\n",
      "Non-trainable params: 0\n",
      "_________________________________________________________________\n"
     ]
    },
    {
     "name": "stderr",
     "output_type": "stream",
     "text": [
      "2022-07-23 21:27:17.298616: I tensorflow/core/common_runtime/process_util.cc:146] Creating new thread pool with default inter op setting: 2. Tune using inter_op_parallelism_threads for best performance.\n"
     ]
    }
   ],
   "source": [
    "model = Sequential()\n",
    "model.add(Dense(7, activation = 'relu', input_dim = 10))\n",
    "model.add(Dense(5, activation = 'relu'))\n",
    "model.add(Dense(4, activation = 'softmax'))\n",
    "model.summary()"
   ]
  },
  {
   "cell_type": "code",
   "execution_count": 11,
   "id": "99fbb320",
   "metadata": {
    "execution": {
     "iopub.execute_input": "2022-07-23T21:27:17.402169Z",
     "iopub.status.busy": "2022-07-23T21:27:17.401798Z",
     "iopub.status.idle": "2022-07-23T21:27:17.415621Z",
     "shell.execute_reply": "2022-07-23T21:27:17.414502Z"
    },
    "papermill": {
     "duration": 0.022797,
     "end_time": "2022-07-23T21:27:17.418173",
     "exception": false,
     "start_time": "2022-07-23T21:27:17.395376",
     "status": "completed"
    },
    "tags": []
   },
   "outputs": [],
   "source": [
    "model.compile(loss = 'categorical_crossentropy',\n",
    "             optimizer = 'adam',\n",
    "             metrics = ['accuracy'])"
   ]
  },
  {
   "cell_type": "code",
   "execution_count": 12,
   "id": "4511d566",
   "metadata": {
    "execution": {
     "iopub.execute_input": "2022-07-23T21:27:17.429968Z",
     "iopub.status.busy": "2022-07-23T21:27:17.429465Z",
     "iopub.status.idle": "2022-07-23T21:27:19.626723Z",
     "shell.execute_reply": "2022-07-23T21:27:19.625564Z"
    },
    "papermill": {
     "duration": 2.20597,
     "end_time": "2022-07-23T21:27:19.629267",
     "exception": false,
     "start_time": "2022-07-23T21:27:17.423297",
     "status": "completed"
    },
    "tags": []
   },
   "outputs": [
    {
     "name": "stdout",
     "output_type": "stream",
     "text": [
      "Epoch 1/25\n"
     ]
    },
    {
     "name": "stderr",
     "output_type": "stream",
     "text": [
      "2022-07-23 21:27:17.513483: I tensorflow/compiler/mlir/mlir_graph_optimization_pass.cc:185] None of the MLIR Optimization Passes are enabled (registered 2)\n"
     ]
    },
    {
     "name": "stdout",
     "output_type": "stream",
     "text": [
      "32/32 [==============================] - 1s 2ms/step - loss: 1.4132 - accuracy: 0.2685\n",
      "Epoch 2/25\n",
      "32/32 [==============================] - 0s 2ms/step - loss: 1.3861 - accuracy: 0.2905\n",
      "Epoch 3/25\n",
      "32/32 [==============================] - 0s 2ms/step - loss: 1.3618 - accuracy: 0.3070\n",
      "Epoch 4/25\n",
      "32/32 [==============================] - 0s 1ms/step - loss: 1.3304 - accuracy: 0.3255\n",
      "Epoch 5/25\n",
      "32/32 [==============================] - 0s 3ms/step - loss: 1.2908 - accuracy: 0.3410\n",
      "Epoch 6/25\n",
      "32/32 [==============================] - 0s 2ms/step - loss: 1.2452 - accuracy: 0.3920\n",
      "Epoch 7/25\n",
      "32/32 [==============================] - 0s 2ms/step - loss: 1.1994 - accuracy: 0.4510\n",
      "Epoch 8/25\n",
      "32/32 [==============================] - 0s 2ms/step - loss: 1.1535 - accuracy: 0.4900\n",
      "Epoch 9/25\n",
      "32/32 [==============================] - 0s 2ms/step - loss: 1.1078 - accuracy: 0.5425\n",
      "Epoch 10/25\n",
      "32/32 [==============================] - 0s 2ms/step - loss: 1.0655 - accuracy: 0.5820\n",
      "Epoch 11/25\n",
      "32/32 [==============================] - 0s 2ms/step - loss: 1.0254 - accuracy: 0.6190\n",
      "Epoch 12/25\n",
      "32/32 [==============================] - 0s 2ms/step - loss: 0.9880 - accuracy: 0.6535\n",
      "Epoch 13/25\n",
      "32/32 [==============================] - 0s 2ms/step - loss: 0.9519 - accuracy: 0.6750\n",
      "Epoch 14/25\n",
      "32/32 [==============================] - 0s 2ms/step - loss: 0.9154 - accuracy: 0.7035\n",
      "Epoch 15/25\n",
      "32/32 [==============================] - 0s 2ms/step - loss: 0.8778 - accuracy: 0.7215\n",
      "Epoch 16/25\n",
      "32/32 [==============================] - 0s 2ms/step - loss: 0.8374 - accuracy: 0.7195\n",
      "Epoch 17/25\n",
      "32/32 [==============================] - 0s 1ms/step - loss: 0.7947 - accuracy: 0.7020\n",
      "Epoch 18/25\n",
      "32/32 [==============================] - 0s 1ms/step - loss: 0.7502 - accuracy: 0.7010\n",
      "Epoch 19/25\n",
      "32/32 [==============================] - 0s 1ms/step - loss: 0.7056 - accuracy: 0.7360\n",
      "Epoch 20/25\n",
      "32/32 [==============================] - 0s 1ms/step - loss: 0.6612 - accuracy: 0.7995\n",
      "Epoch 21/25\n",
      "32/32 [==============================] - 0s 1ms/step - loss: 0.6178 - accuracy: 0.8585\n",
      "Epoch 22/25\n",
      "32/32 [==============================] - 0s 1ms/step - loss: 0.5771 - accuracy: 0.8800\n",
      "Epoch 23/25\n",
      "32/32 [==============================] - 0s 2ms/step - loss: 0.5371 - accuracy: 0.8870\n",
      "Epoch 24/25\n",
      "32/32 [==============================] - 0s 2ms/step - loss: 0.5004 - accuracy: 0.8950\n",
      "Epoch 25/25\n",
      "32/32 [==============================] - 0s 1ms/step - loss: 0.4667 - accuracy: 0.8950\n"
     ]
    },
    {
     "data": {
      "text/plain": [
       "<keras.callbacks.History at 0x7fb9af681e50>"
      ]
     },
     "execution_count": 12,
     "metadata": {},
     "output_type": "execute_result"
    }
   ],
   "source": [
    "model.fit(x_train, y_train, epochs = 25, batch_size = 64)"
   ]
  },
  {
   "cell_type": "code",
   "execution_count": 13,
   "id": "4b05809b",
   "metadata": {
    "execution": {
     "iopub.execute_input": "2022-07-23T21:27:19.650320Z",
     "iopub.status.busy": "2022-07-23T21:27:19.649731Z",
     "iopub.status.idle": "2022-07-23T21:27:19.875032Z",
     "shell.execute_reply": "2022-07-23T21:27:19.873879Z"
    },
    "papermill": {
     "duration": 0.238315,
     "end_time": "2022-07-23T21:27:19.877292",
     "exception": false,
     "start_time": "2022-07-23T21:27:19.638977",
     "status": "completed"
    },
    "tags": []
   },
   "outputs": [
    {
     "name": "stdout",
     "output_type": "stream",
     "text": [
      "Accuracy of Your Model is = 24.6\n"
     ]
    }
   ],
   "source": [
    "y_pred = model.predict(x_test)\n",
    "pred = []\n",
    "for i in range(len(y_pred)):\n",
    "    pred.append(np.argmax(y_pred[i]))\n",
    "    \n",
    "test = []\n",
    "for i in range(len(y_test)):\n",
    "    test.append(np.argmax(y_test[i]))\n",
    "    \n",
    "from sklearn.metrics import accuracy_score\n",
    "acc = accuracy_score(pred,test)\n",
    "print(\"Accuracy of Your Model is = \" + str(acc*100))\n",
    "    "
   ]
  },
  {
   "cell_type": "code",
   "execution_count": null,
   "id": "66eaf57a",
   "metadata": {
    "papermill": {
     "duration": 0.009366,
     "end_time": "2022-07-23T21:27:19.896148",
     "exception": false,
     "start_time": "2022-07-23T21:27:19.886782",
     "status": "completed"
    },
    "tags": []
   },
   "outputs": [],
   "source": []
  }
 ],
 "metadata": {
  "kernelspec": {
   "display_name": "Python 3",
   "language": "python",
   "name": "python3"
  },
  "language_info": {
   "codemirror_mode": {
    "name": "ipython",
    "version": 3
   },
   "file_extension": ".py",
   "mimetype": "text/x-python",
   "name": "python",
   "nbconvert_exporter": "python",
   "pygments_lexer": "ipython3",
   "version": "3.7.12"
  },
  "papermill": {
   "default_parameters": {},
   "duration": 24.682571,
   "end_time": "2022-07-23T21:27:23.503511",
   "environment_variables": {},
   "exception": null,
   "input_path": "__notebook__.ipynb",
   "output_path": "__notebook__.ipynb",
   "parameters": {},
   "start_time": "2022-07-23T21:26:58.820940",
   "version": "2.3.4"
  }
 },
 "nbformat": 4,
 "nbformat_minor": 5
}
